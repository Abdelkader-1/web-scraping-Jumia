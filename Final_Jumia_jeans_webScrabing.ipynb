{
  "cells": [
    {
      "cell_type": "code",
      "execution_count": null,
      "metadata": {
        "id": "ws2nRlQC3XQR"
      },
      "outputs": [],
      "source": [
        "from bs4 import BeautifulSoup\n",
        "import requests\n",
        "import pandas as pd\n",
        "import urllib.parse"
      ]
    },
    {
      "cell_type": "markdown",
      "metadata": {
        "id": "_B8sBodN3XQX"
      },
      "source": [
        "# page link"
      ]
    },
    {
      "cell_type": "code",
      "execution_count": 35,
      "metadata": {
        "id": "DVzulwoW3XQc"
      },
      "outputs": [],
      "source": [
        "JumiaWebsite = \"https://www.jumia.com.eg/ar/mlp-men-s-jeans/?viewType=list&page=\""
      ]
    },
    {
      "cell_type": "code",
      "source": [
        "product_img =[]\n",
        "free_shpping_ability=[]\n",
        "product_review =[]\n",
        "product_text =[]\n",
        "product_price = []\n",
        "product_old_price=[]\n",
        "product_scorce=[]\n",
        "product_link=[]\n",
        "product_link_combined=[]"
      ],
      "metadata": {
        "id": "ZvLTtSyOFGX8"
      },
      "execution_count": null,
      "outputs": []
    },
    {
      "cell_type": "markdown",
      "metadata": {
        "id": "cTA0pmw63XQq"
      },
      "source": [
        "# cleaning data\n"
      ]
    },
    {
      "cell_type": "code",
      "execution_count": null,
      "metadata": {
        "id": "PqmBt4n33XQs"
      },
      "outputs": [],
      "source": [
        "def cleandf(product_df):\n",
        "    product_df[\"new_price\"] = product_df[\"new_price\"].str.replace(\"جنيه \",\"\")\n",
        "    product_df[\"old_price\"] = product_df[\"old_price\"].str.replace(\"جنيه \",\"\")\n",
        "    product_df[\"product_scorce\"] = product_df[\"product_scorce\"].str.replace(\"المتجر الرسمي\",\"Official store\")\n",
        "    product_df[\"free_shpping_ability\"] = product_df[\"free_shpping_ability\"].str.replace(\"مؤهل للشحن المجاني\",\"free shipping\")"
      ]
    },
    {
      "cell_type": "markdown",
      "metadata": {
        "id": "nU3ewMAx3XQm"
      },
      "source": [
        "### comine links to the domain to be used"
      ]
    },
    {
      "cell_type": "code",
      "execution_count": null,
      "metadata": {
        "id": "UetrVbLl3XQo"
      },
      "outputs": [],
      "source": [
        "domain = 'https://www.jumia.com.eg'\n",
        "def combinedLink(product_link):\n",
        "    for link in product_link:\n",
        "        product_link_combined.append(urllib.parse.urljoin(domain,link))\n"
      ]
    },
    {
      "cell_type": "markdown",
      "metadata": {
        "id": "yMN2MjVq3XQe"
      },
      "source": [
        "\n",
        "# Fitch data from JUMIA"
      ]
    },
    {
      "cell_type": "code",
      "execution_count": null,
      "metadata": {
        "id": "4ClkrHhm3XQh"
      },
      "outputs": [],
      "source": [
        "\n",
        "def jumiaJeans(website):\n",
        "    for i in range(1,51):\n",
        "        website = website+str(i)+'#catalog-listing'\n",
        "        response = requests.get(website)\n",
        "        print(response.status_code)\n",
        "        soup = BeautifulSoup(response.content,'html.parser')\n",
        "        results = soup.find_all('a',{'class' : 'core'})\n",
        "        for result in results:\n",
        "            try:\n",
        "                product_text.append(result.find('h3',{'class':'name'}).get_text())\n",
        "            except:\n",
        "                product_text.append('N/A')\n",
        "            try:\n",
        "                product_price.append(result.find('div',{'class':'prc'}).get_text())\n",
        "            except:\n",
        "                product_price.append('N/A')\n",
        "            try:\n",
        "                product_old_price.append(result.find('div',{'class':'old'}).get_text())\n",
        "            except:\n",
        "                product_old_price.append('N/A')\n",
        "            try:\n",
        "                product_review.append(result.find('div',{'class':'rev'}).get_text())\n",
        "            except:\n",
        "                product_review.append('N/A')\n",
        "            try:\n",
        "                product_img.append(result.find('img',{'class':'img'}).get('data-src'))\n",
        "            except:\n",
        "                product_img.append('N/A')\n",
        "            try:\n",
        "                product_scorce.append(result.find('div',{'class':'tag _mall _sm'}).get_text())\n",
        "            except:\n",
        "                product_scorce.append('N/A')\n",
        "            try:\n",
        "                free_shpping_ability.append(result.find('p',{'class':'shipp'}).get_text())\n",
        "            except:\n",
        "                free_shpping_ability.append('N/A')\n",
        "            try:\n",
        "                product_link.append(result.get('href'))\n",
        "            except:\n",
        "                product_link.append('N/A')  \n",
        "    #combine links            \n",
        "    combinedLink(product_link)\n",
        "    #clean data\n",
        "    cleandf(product_df)"
      ]
    },
    {
      "cell_type": "code",
      "execution_count": null,
      "metadata": {
        "id": "kQDXdm_Y3XQ_"
      },
      "outputs": [],
      "source": [
        "jumiaJeans(str(JumiaWebsite))"
      ]
    },
    {
      "cell_type": "code",
      "source": [
        "# save to dataframe\n",
        "product_df = pd.DataFrame({'product_text':product_text,'new_price':product_price,'old_price':product_old_price,'product_review':product_review,'product_img':product_img,'product_scorce':product_scorce,'free_shpping_ability':free_shpping_ability,'product_link':product_link_combined})    \n",
        "product_df"
      ],
      "metadata": {
        "id": "MFFeUuf4E78C"
      },
      "execution_count": null,
      "outputs": []
    },
    {
      "cell_type": "markdown",
      "metadata": {
        "id": "QAeml7Or3XRB"
      },
      "source": [
        "# TEST"
      ]
    },
    {
      "cell_type": "code",
      "execution_count": null,
      "metadata": {
        "id": "JYtM_1Ic3XRC"
      },
      "outputs": [],
      "source": [
        "product_df.head(5)"
      ]
    },
    {
      "cell_type": "markdown",
      "metadata": {
        "id": "OmvKS8NN3XRH"
      },
      "source": [
        "# Save to cvs file"
      ]
    },
    {
      "cell_type": "code",
      "execution_count": null,
      "metadata": {
        "id": "oaWebaCF3XRK"
      },
      "outputs": [],
      "source": [
        "product_df.to_csv('JumiaJeans.csv')"
      ]
    },
    {
      "cell_type": "markdown",
      "metadata": {
        "id": "0CDgF6-03XRL"
      },
      "source": [
        "# connecting to database"
      ]
    },
    {
      "cell_type": "code",
      "execution_count": null,
      "metadata": {
        "id": "HQQkUwk83XRM"
      },
      "outputs": [],
      "source": [
        "import pyodbc \n",
        "conn = pyodbc.connect('Driver={SQL Server};'\n",
        "                      'Server=ABDELKADER;'\n",
        "                      'Database=Jumia;'\n",
        "                      'Trusted_Connection=yes;')\n",
        "cursor = conn.cursor()"
      ]
    },
    {
      "cell_type": "code",
      "source": [],
      "metadata": {
        "id": "CSEK3xMqJN8l"
      },
      "execution_count": null,
      "outputs": []
    },
    {
      "cell_type": "markdown",
      "source": [
        "Insert into database"
      ],
      "metadata": {
        "id": "7m_rgabtJPMw"
      }
    },
    {
      "cell_type": "code",
      "execution_count": null,
      "metadata": {
        "id": "Ns6ddqRg3XRN"
      },
      "outputs": [],
      "source": [
        "insert_stat = \"\"\"\n",
        "INSERT INTO Jeans_Info \n",
        "VALUES (?,?,?,?,?,?,?,?)\n",
        "\"\"\""
      ]
    },
    {
      "cell_type": "code",
      "execution_count": null,
      "metadata": {
        "id": "SbNA9LmU3XRP"
      },
      "outputs": [],
      "source": [
        "for text in product_df.values:\n",
        "    print(list(text))\n",
        "    cursor.execute(insert_stat,list(text))\n",
        "conn.commit()    "
      ]
    },
    {
      "cell_type": "markdown",
      "source": [
        "select data from database"
      ],
      "metadata": {
        "id": "ueqmv6vrJUEq"
      }
    },
    {
      "cell_type": "code",
      "execution_count": null,
      "metadata": {
        "scrolled": true,
        "id": "YJJ-4Uxj3XRR"
      },
      "outputs": [],
      "source": [
        "cursor.execute('SELECT * FROM Jeans_Info')\n",
        "for i in cursor:\n",
        "    print(i)"
      ]
    },
    {
      "cell_type": "code",
      "execution_count": null,
      "metadata": {
        "id": "o9qoD8bI3XRT"
      },
      "outputs": [],
      "source": []
    },
    {
      "cell_type": "code",
      "execution_count": null,
      "metadata": {
        "id": "Ng5nr_h43XRU"
      },
      "outputs": [],
      "source": []
    },
    {
      "cell_type": "code",
      "execution_count": null,
      "metadata": {
        "id": "KFH44XXH3XRV"
      },
      "outputs": [],
      "source": []
    }
  ],
  "metadata": {
    "kernelspec": {
      "display_name": "Python 3",
      "language": "python",
      "name": "python3"
    },
    "language_info": {
      "codemirror_mode": {
        "name": "ipython",
        "version": 3
      },
      "file_extension": ".py",
      "mimetype": "text/x-python",
      "name": "python",
      "nbconvert_exporter": "python",
      "pygments_lexer": "ipython3",
      "version": "3.8.5"
    },
    "colab": {
      "provenance": []
    }
  },
  "nbformat": 4,
  "nbformat_minor": 0
}